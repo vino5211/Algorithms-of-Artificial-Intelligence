{
 "cells": [
  {
   "cell_type": "markdown",
   "metadata": {},
   "source": [
    "# Clear NLTK\n",
    "+ Installing Third Party Software\n",
    "\t+ https://github.com/nltk/nltk/wiki/Installing-Third-Party-Software\n",
    "+ standford nltk API\n",
    "\t+ nltk.parse.stanford.module\n",
    "\t+ nltk.tag.stanford.module\n",
    "\t+ nltk.tokenize.stanford.module\n",
    "\t+ nltk.tokenize.stanford_segmenter_module\n",
    "+ corenlp nltk\n",
    "\t+ standford parser and nltk\n",
    "\t\t+ https://stackoverflow.com/questions/13883277/stanford-parser-and-nltk\n",
    "\t+ 解压jar\n",
    "\t\t+ http://blog.csdn.net/appleml/article/details/53589081 \n",
    "+ 常用函数\n",
    "\t+ 关键词的上下文\n",
    "\t+ 相似上下文\n",
    "\t+ 共同上下文\n",
    "\t+ 生成随意文本--generate\n",
    "\t+ 词汇计数\n",
    "\t\t+ len:文本中出现的词和标点，从文本头到文本尾\n",
    "\t\t+ set:\n",
    "\t\t\t+ sorted(set(text1)) # 获取文本text1的词汇表，并按照英文字母排序\n",
    "\t\t\t+ len(set(text1)) # 获取文本text1词汇表的数量（词类型）\n",
    "\t\t+ 特定词的出现次数和占比：\n",
    "\t\t\t+ text3.count(\"smote\") #单词smote在文本中出现次数 \n",
    "\t\t\t+ 100 * text3.count(\"smote\") / len(text3) #获取单词的占比 \n",
    "+ nltk 中文处理方案\n",
    "\t+ 我感觉用nltk 处理中文是完全可用的。\n",
    "\t其重点在于中文分词和文本表达的形式。\n",
    "    中文和英文主要的不同之处是中文需要分词。\n",
    "    因为nltk 的处理粒度一般是词，所以必须要先对文本进行分词然后再用nltk 来处理（不需要用nltk 来做分词，直接用分词包就可以了。严重推荐**结巴分词**，非常好用）。\n",
    "    中文分词之后，文本就是一个由每个词组成的长数组：[word1, word2, word3…… wordn]。之后就可以使用nltk 里面的各种方法来处理这个文本了。\n",
    "    比如用**FreqDist**统计文本词频，用**bigrams**把文本变成双词组的形式：[(word1, word2), (word2, word3), (word3, word4)……(wordn-1, wordn)]。\n",
    "    再之后就可以用这些来计算文本词语的信息熵、互信息等。再之后可以用这些来选择机器学习的特征，构建分类器，对文本进行分类（商品评论是由多个独立评论组成的多维数组，网上有很多情感分类的实现例子用的就是nltk 中的商品评论语料库，不过是英文的。但整个思想是可以一致的）。\n"
   ]
  },
  {
   "cell_type": "code",
   "execution_count": 3,
   "metadata": {},
   "outputs": [
    {
     "data": {
      "text/plain": [
       "['abc.com is a very good website, We can learn a lot from it.']"
      ]
     },
     "execution_count": 3,
     "metadata": {},
     "output_type": "execute_result"
    }
   ],
   "source": [
    "# http://www.pythontip.com/blog/post/10012/\n",
    "# NLTK 进行分句\n",
    "import nltk\n",
    "text = \"abc.com is a very good website, We can learn a lot from it.\"\n",
    "sens = nltk.sent_tokenize(text)\n",
    "sens"
   ]
  },
  {
   "cell_type": "code",
   "execution_count": 5,
   "metadata": {},
   "outputs": [
    {
     "data": {
      "text/plain": [
       "[['abc.com',\n",
       "  'is',\n",
       "  'a',\n",
       "  'very',\n",
       "  'good',\n",
       "  'website',\n",
       "  ',',\n",
       "  'We',\n",
       "  'can',\n",
       "  'learn',\n",
       "  'a',\n",
       "  'lot',\n",
       "  'from',\n",
       "  'it',\n",
       "  '.']]"
      ]
     },
     "execution_count": 5,
     "metadata": {},
     "output_type": "execute_result"
    }
   ],
   "source": [
    "# NLTK 进行分词\n",
    "words = []\n",
    "for sent in sens:\n",
    "    words.append(nltk.word_tokenize(sent))\n",
    "words"
   ]
  },
  {
   "cell_type": "code",
   "execution_count": 8,
   "metadata": {},
   "outputs": [
    {
     "name": "stdout",
     "output_type": "stream",
     "text": [
      "[[('abc.com', 'NN'), ('is', 'VBZ'), ('a', 'DT'), ('very', 'RB'), ('good', 'JJ'), ('website', 'NN'), (',', ','), ('We', 'PRP'), ('can', 'MD'), ('learn', 'VB'), ('a', 'DT'), ('lot', 'NN'), ('from', 'IN'), ('it', 'PRP'), ('.', '.')]]\n"
     ]
    }
   ],
   "source": [
    "# NLTK 进行词性标注\n",
    "tags = []\n",
    "# 词性标注要使用上一步分词的结果\n",
    "for tokens in words:\n",
    "    tags.append(nltk.pos_tag(tokens))\n",
    "print(tags)"
   ]
  },
  {
   "cell_type": "code",
   "execution_count": 16,
   "metadata": {},
   "outputs": [
    {
     "name": "stdout",
     "output_type": "stream",
     "text": [
      "(S\n",
      "  (GPE Xi/NN)\n",
      "  is/VBZ\n",
      "  the/DT\n",
      "  chairman/NN\n",
      "  of/IN\n",
      "  (GPE China/NNP)\n",
      "  in/IN\n",
      "  the/DT\n",
      "  year/NN\n",
      "  2013/CD)---<bound method Tree.label of Tree('S', [Tree('GPE', [('Xi', 'NN')]), ('is', 'VBZ'), ('the', 'DT'), ('chairman', 'NN'), ('of', 'IN'), Tree('GPE', [('China', 'NNP')]), ('in', 'IN'), ('the', 'DT'), ('year', 'NN'), ('2013', 'CD')])>\n"
     ]
    }
   ],
   "source": [
    "# NLTK 命名实体识别\n",
    "text = \"Xi is the chairman of China in the year 2013\"\n",
    "# 分词\n",
    "tokens = nltk.word_tokenize(text)\n",
    "# 词性标注\n",
    "tags = nltk.pos_tag(tokens)\n",
    "# print(tags)\n",
    "# NER 需要利用词性标注的结果\n",
    "ners = nltk.ne_chunk(tags)\n",
    "print('{s1}---{s2}'.format(s1=str(ners), s2=str(ners.label)))\n"
   ]
  }
 ],
 "metadata": {
  "kernelspec": {
   "display_name": "Python 3",
   "language": "python",
   "name": "python3"
  },
  "language_info": {
   "codemirror_mode": {
    "name": "ipython",
    "version": 3
   },
   "file_extension": ".py",
   "mimetype": "text/x-python",
   "name": "python",
   "nbconvert_exporter": "python",
   "pygments_lexer": "ipython3",
   "version": "3.6.3"
  }
 },
 "nbformat": 4,
 "nbformat_minor": 2
}
