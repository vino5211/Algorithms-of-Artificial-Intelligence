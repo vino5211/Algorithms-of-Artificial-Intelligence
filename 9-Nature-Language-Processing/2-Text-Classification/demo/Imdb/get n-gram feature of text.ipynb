{
 "cells": [
  {
   "cell_type": "code",
   "execution_count": 3,
   "metadata": {
    "collapsed": true
   },
   "outputs": [],
   "source": [
    "#coding=utf-8\n",
    "\n",
    "from sklearn.feature_extraction.text import CountVectorizer\n",
    "\n",
    "text = [\"A smile is the most charming part of a person forever.\",\"A smile is\"]\n",
    "\n",
    "# ngram_range=(2, 2)表明适应2-gram,decode_error=\"ignore\"忽略异常字符,token_pattern按照单词切割\n",
    "ngram_vectorizer = CountVectorizer(ngram_range=(2, 2), decode_error=\"ignore\",\n",
    "                                        token_pattern = r'\\b\\w+\\b',min_df=1)\n",
    "\n",
    "x1 = ngram_vectorizer.fit_transform(text)"
   ]
  },
  {
   "cell_type": "code",
   "execution_count": 5,
   "metadata": {},
   "outputs": [
    {
     "name": "stdout",
     "output_type": "stream",
     "text": [
      "  (0, 7)\t1\n",
      "  (0, 0)\t1\n",
      "  (0, 5)\t1\n",
      "  (0, 6)\t1\n",
      "  (0, 2)\t1\n",
      "  (0, 4)\t1\n",
      "  (0, 9)\t1\n",
      "  (0, 3)\t1\n",
      "  (0, 8)\t1\n",
      "  (0, 1)\t1\n",
      "  (1, 8)\t1\n",
      "  (1, 1)\t1\n",
      "[[1 1 1 1 1 1 1 1 1 1]\n",
      " [0 1 0 0 0 0 0 0 1 0]]\n",
      "{'a smile': 1, 'smile is': 8, 'is the': 3, 'the most': 9, 'most charming': 4, 'charming part': 2, 'part of': 6, 'of a': 5, 'a person': 0, 'person forever': 7}\n"
     ]
    }
   ],
   "source": [
    "print(x1)\n",
    "print(x1.toarray())\n",
    "# 查看生成的词表\n",
    "print(ngram_vectorizer.vocabulary_)"
   ]
  },
  {
   "cell_type": "code",
   "execution_count": 6,
   "metadata": {},
   "outputs": [
    {
     "name": "stdout",
     "output_type": "stream",
     "text": [
      "  (0, 16)\t1\n",
      "  (0, 19)\t1\n",
      "  (0, 7)\t1\n",
      "  (0, 13)\t1\n",
      "  (0, 26)\t1\n",
      "  (0, 10)\t1\n",
      "  (0, 23)\t1\n",
      "  (0, 4)\t1\n",
      "  (0, 1)\t1\n",
      "  (0, 15)\t1\n",
      "  (0, 18)\t1\n",
      "  (0, 6)\t1\n",
      "  (0, 12)\t1\n",
      "  (0, 25)\t1\n",
      "  (0, 9)\t1\n",
      "  (0, 22)\t1\n",
      "  (0, 3)\t1\n",
      "  (0, 20)\t1\n",
      "  (0, 0)\t1\n",
      "  (0, 14)\t1\n",
      "  (0, 17)\t1\n",
      "  (0, 5)\t1\n",
      "  (0, 11)\t1\n",
      "  (0, 24)\t1\n",
      "  (0, 8)\t1\n",
      "  (0, 21)\t1\n",
      "  (0, 2)\t1\n",
      "  (1, 3)\t1\n",
      "  (1, 21)\t1\n",
      "  (1, 2)\t1\n",
      "{'a smile': 2, 'smile is': 21, 'is the': 8, 'the most': 24, 'most charming': 11, 'charming part': 5, 'part of': 17, 'of a': 14, 'a person': 0, 'person forever': 20, 'a smile is': 3, 'smile is the': 22, 'is the most': 9, 'the most charming': 25, 'most charming part': 12, 'charming part of': 6, 'part of a': 18, 'of a person': 15, 'a person forever': 1, 'a smile is the': 4, 'smile is the most': 23, 'is the most charming': 10, 'the most charming part': 26, 'most charming part of': 13, 'charming part of a': 7, 'part of a person': 19, 'of a person forever': 16}\n"
     ]
    }
   ],
   "source": [
    "# 如果ngram_range=(2, 4)，则表示2，3,4个单词切割\n",
    "ngram_vectorizer = CountVectorizer(ngram_range=(2, 4), decode_error=\"ignore\",\n",
    "                                        token_pattern = r'\\b\\w+\\b',min_df=1)\n",
    "x1 = ngram_vectorizer.fit_transform(text)\n",
    "print(x1)\n",
    "print(ngram_vectorizer.vocabulary_)"
   ]
  },
  {
   "cell_type": "code",
   "execution_count": null,
   "metadata": {
    "collapsed": true
   },
   "outputs": [],
   "source": [
    ""
   ]
  }
 ],
 "metadata": {
  "kernelspec": {
   "display_name": "Python 3",
   "language": "python",
   "name": "python3"
  },
  "language_info": {
   "codemirror_mode": {
    "name": "ipython",
    "version": 3
   },
   "file_extension": ".py",
   "mimetype": "text/x-python",
   "name": "python",
   "nbconvert_exporter": "python",
   "pygments_lexer": "ipython3",
   "version": "3.6.3"
  }
 },
 "nbformat": 4,
 "nbformat_minor": 0
}
